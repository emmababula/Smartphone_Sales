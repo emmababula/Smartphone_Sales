{
 "cells": [
  {
   "cell_type": "markdown",
   "id": "aea55702-b2a0-46aa-8f77-7b0ffdd39ec0",
   "metadata": {},
   "source": [
    "# Cleaning Smartphone Sales Data\n",
    "## Author: Emma Babula"
   ]
  },
  {
   "cell_type": "markdown",
   "id": "37cf4f5d-b37f-410e-b9c3-f32af7568457",
   "metadata": {},
   "source": [
    "#### Import data and begin exploring"
   ]
  },
  {
   "cell_type": "code",
   "execution_count": 1,
   "id": "520d2d0a-f5f2-4ab6-af6b-26f518a8e1db",
   "metadata": {
    "tags": []
   },
   "outputs": [],
   "source": [
    "import pandas as pd"
   ]
  },
  {
   "cell_type": "code",
   "execution_count": 2,
   "id": "7c75a86c-8ff0-497d-972e-39ccdea024b8",
   "metadata": {
    "tags": []
   },
   "outputs": [
    {
     "data": {
      "text/html": [
       "<div>\n",
       "<style scoped>\n",
       "    .dataframe tbody tr th:only-of-type {\n",
       "        vertical-align: middle;\n",
       "    }\n",
       "\n",
       "    .dataframe tbody tr th {\n",
       "        vertical-align: top;\n",
       "    }\n",
       "\n",
       "    .dataframe thead th {\n",
       "        text-align: right;\n",
       "    }\n",
       "</style>\n",
       "<table border=\"1\" class=\"dataframe\">\n",
       "  <thead>\n",
       "    <tr style=\"text-align: right;\">\n",
       "      <th></th>\n",
       "      <th>Brands</th>\n",
       "      <th>Models</th>\n",
       "      <th>Colors</th>\n",
       "      <th>Memory</th>\n",
       "      <th>Storage</th>\n",
       "      <th>Camera</th>\n",
       "      <th>Rating</th>\n",
       "      <th>Selling Price</th>\n",
       "      <th>Original Price</th>\n",
       "      <th>Mobile</th>\n",
       "      <th>Discount</th>\n",
       "      <th>discount percentage</th>\n",
       "    </tr>\n",
       "  </thead>\n",
       "  <tbody>\n",
       "    <tr>\n",
       "      <th>0</th>\n",
       "      <td>SAMSUNG</td>\n",
       "      <td>GALAXY M31S</td>\n",
       "      <td>Mirage Black</td>\n",
       "      <td>8 GB</td>\n",
       "      <td>128 GB</td>\n",
       "      <td>Yes</td>\n",
       "      <td>4.3</td>\n",
       "      <td>19330</td>\n",
       "      <td>20999</td>\n",
       "      <td>SAMSUNG GALAXY M31S</td>\n",
       "      <td>1669</td>\n",
       "      <td>7.947998</td>\n",
       "    </tr>\n",
       "    <tr>\n",
       "      <th>1</th>\n",
       "      <td>Nokia</td>\n",
       "      <td>3.2</td>\n",
       "      <td>Steel</td>\n",
       "      <td>2 GB</td>\n",
       "      <td>16 GB</td>\n",
       "      <td>Yes</td>\n",
       "      <td>3.8</td>\n",
       "      <td>10199</td>\n",
       "      <td>10199</td>\n",
       "      <td>Nokia 3.2</td>\n",
       "      <td>0</td>\n",
       "      <td>0.000000</td>\n",
       "    </tr>\n",
       "    <tr>\n",
       "      <th>2</th>\n",
       "      <td>realme</td>\n",
       "      <td>C2</td>\n",
       "      <td>Diamond Black</td>\n",
       "      <td>2 GB</td>\n",
       "      <td>NaN</td>\n",
       "      <td>Yes</td>\n",
       "      <td>4.4</td>\n",
       "      <td>6999</td>\n",
       "      <td>7999</td>\n",
       "      <td>realme C2</td>\n",
       "      <td>1000</td>\n",
       "      <td>12.501563</td>\n",
       "    </tr>\n",
       "    <tr>\n",
       "      <th>3</th>\n",
       "      <td>Infinix</td>\n",
       "      <td>Note 5</td>\n",
       "      <td>Ice Blue</td>\n",
       "      <td>4 GB</td>\n",
       "      <td>64 GB</td>\n",
       "      <td>Yes</td>\n",
       "      <td>4.2</td>\n",
       "      <td>12999</td>\n",
       "      <td>12999</td>\n",
       "      <td>Infinix Note 5</td>\n",
       "      <td>0</td>\n",
       "      <td>0.000000</td>\n",
       "    </tr>\n",
       "    <tr>\n",
       "      <th>4</th>\n",
       "      <td>Apple</td>\n",
       "      <td>iPhone 11</td>\n",
       "      <td>Black</td>\n",
       "      <td>4GB</td>\n",
       "      <td>64 GB</td>\n",
       "      <td>Yes</td>\n",
       "      <td>4.6</td>\n",
       "      <td>49900</td>\n",
       "      <td>49900</td>\n",
       "      <td>Apple iPhone 11</td>\n",
       "      <td>0</td>\n",
       "      <td>0.000000</td>\n",
       "    </tr>\n",
       "    <tr>\n",
       "      <th>...</th>\n",
       "      <td>...</td>\n",
       "      <td>...</td>\n",
       "      <td>...</td>\n",
       "      <td>...</td>\n",
       "      <td>...</td>\n",
       "      <td>...</td>\n",
       "      <td>...</td>\n",
       "      <td>...</td>\n",
       "      <td>...</td>\n",
       "      <td>...</td>\n",
       "      <td>...</td>\n",
       "      <td>...</td>\n",
       "    </tr>\n",
       "    <tr>\n",
       "      <th>3109</th>\n",
       "      <td>POCO</td>\n",
       "      <td>M4 Pro 5G</td>\n",
       "      <td>Cool Blue</td>\n",
       "      <td>6 GB</td>\n",
       "      <td>128 GB</td>\n",
       "      <td>Yes</td>\n",
       "      <td>4.4</td>\n",
       "      <td>16999</td>\n",
       "      <td>19999</td>\n",
       "      <td>POCO M4 Pro 5G</td>\n",
       "      <td>3000</td>\n",
       "      <td>15.000750</td>\n",
       "    </tr>\n",
       "    <tr>\n",
       "      <th>3110</th>\n",
       "      <td>Nokia</td>\n",
       "      <td>225</td>\n",
       "      <td>Black</td>\n",
       "      <td>NaN</td>\n",
       "      <td>Expandable Upto 32 GB</td>\n",
       "      <td>Yes</td>\n",
       "      <td>3.6</td>\n",
       "      <td>3499</td>\n",
       "      <td>3499</td>\n",
       "      <td>Nokia 225</td>\n",
       "      <td>0</td>\n",
       "      <td>0.000000</td>\n",
       "    </tr>\n",
       "    <tr>\n",
       "      <th>3111</th>\n",
       "      <td>Apple</td>\n",
       "      <td>iPhone SE</td>\n",
       "      <td>White</td>\n",
       "      <td>2 GB</td>\n",
       "      <td>128 GB</td>\n",
       "      <td>Yes</td>\n",
       "      <td>4.5</td>\n",
       "      <td>44900</td>\n",
       "      <td>44900</td>\n",
       "      <td>Apple iPhone SE</td>\n",
       "      <td>0</td>\n",
       "      <td>0.000000</td>\n",
       "    </tr>\n",
       "    <tr>\n",
       "      <th>3112</th>\n",
       "      <td>Apple</td>\n",
       "      <td>iPhone 13 Pro</td>\n",
       "      <td>Gold</td>\n",
       "      <td>6 GB</td>\n",
       "      <td>128 GB</td>\n",
       "      <td>Yes</td>\n",
       "      <td>NaN</td>\n",
       "      <td>119900</td>\n",
       "      <td>119900</td>\n",
       "      <td>Apple iPhone 13 Pro</td>\n",
       "      <td>0</td>\n",
       "      <td>0.000000</td>\n",
       "    </tr>\n",
       "    <tr>\n",
       "      <th>3113</th>\n",
       "      <td>GIONEE</td>\n",
       "      <td>F9</td>\n",
       "      <td>Blue</td>\n",
       "      <td>3 GB</td>\n",
       "      <td>32 GB</td>\n",
       "      <td>Yes</td>\n",
       "      <td>4.2</td>\n",
       "      <td>7900</td>\n",
       "      <td>7900</td>\n",
       "      <td>GIONEE F9</td>\n",
       "      <td>0</td>\n",
       "      <td>0.000000</td>\n",
       "    </tr>\n",
       "  </tbody>\n",
       "</table>\n",
       "<p>3114 rows × 12 columns</p>\n",
       "</div>"
      ],
      "text/plain": [
       "       Brands          Models         Colors Memory                Storage  \\\n",
       "0     SAMSUNG    GALAXY M31S    Mirage Black   8 GB                 128 GB   \n",
       "1       Nokia             3.2          Steel   2 GB                  16 GB   \n",
       "2      realme             C2   Diamond Black   2 GB                    NaN   \n",
       "3     Infinix          Note 5       Ice Blue   4 GB                  64 GB   \n",
       "4       Apple      iPhone 11           Black    4GB                  64 GB   \n",
       "...       ...             ...            ...    ...                    ...   \n",
       "3109     POCO       M4 Pro 5G      Cool Blue   6 GB                 128 GB   \n",
       "3110    Nokia             225          Black    NaN  Expandable Upto 32 GB   \n",
       "3111    Apple      iPhone SE           White   2 GB                 128 GB   \n",
       "3112    Apple  iPhone 13 Pro            Gold   6 GB                 128 GB   \n",
       "3113   GIONEE             F9            Blue   3 GB                  32 GB   \n",
       "\n",
       "     Camera  Rating  Selling Price  Original Price                Mobile  \\\n",
       "0       Yes     4.3          19330           20999  SAMSUNG GALAXY M31S    \n",
       "1       Yes     3.8          10199           10199             Nokia 3.2   \n",
       "2       Yes     4.4           6999            7999            realme C2    \n",
       "3       Yes     4.2          12999           12999        Infinix Note 5   \n",
       "4       Yes     4.6          49900           49900      Apple iPhone 11    \n",
       "...     ...     ...            ...             ...                   ...   \n",
       "3109    Yes     4.4          16999           19999        POCO M4 Pro 5G   \n",
       "3110    Yes     3.6           3499            3499             Nokia 225   \n",
       "3111    Yes     4.5          44900           44900      Apple iPhone SE    \n",
       "3112    Yes     NaN         119900          119900  Apple iPhone 13 Pro    \n",
       "3113    Yes     4.2           7900            7900            GIONEE F9    \n",
       "\n",
       "      Discount  discount percentage  \n",
       "0         1669             7.947998  \n",
       "1            0             0.000000  \n",
       "2         1000            12.501563  \n",
       "3            0             0.000000  \n",
       "4            0             0.000000  \n",
       "...        ...                  ...  \n",
       "3109      3000            15.000750  \n",
       "3110         0             0.000000  \n",
       "3111         0             0.000000  \n",
       "3112         0             0.000000  \n",
       "3113         0             0.000000  \n",
       "\n",
       "[3114 rows x 12 columns]"
      ]
     },
     "execution_count": 2,
     "metadata": {},
     "output_type": "execute_result"
    }
   ],
   "source": [
    "df = pd.read_csv(r\"C:\\Users\\emmab\\Phone Sales\\Sales.csv\")\n",
    "df"
   ]
  },
  {
   "cell_type": "code",
   "execution_count": 3,
   "id": "2ab660d3-100e-4df7-8993-2d0c1fa3f550",
   "metadata": {
    "tags": []
   },
   "outputs": [
    {
     "data": {
      "text/html": [
       "<div>\n",
       "<style scoped>\n",
       "    .dataframe tbody tr th:only-of-type {\n",
       "        vertical-align: middle;\n",
       "    }\n",
       "\n",
       "    .dataframe tbody tr th {\n",
       "        vertical-align: top;\n",
       "    }\n",
       "\n",
       "    .dataframe thead th {\n",
       "        text-align: right;\n",
       "    }\n",
       "</style>\n",
       "<table border=\"1\" class=\"dataframe\">\n",
       "  <thead>\n",
       "    <tr style=\"text-align: right;\">\n",
       "      <th></th>\n",
       "      <th>Rating</th>\n",
       "      <th>Selling Price</th>\n",
       "      <th>Original Price</th>\n",
       "      <th>Discount</th>\n",
       "      <th>discount percentage</th>\n",
       "    </tr>\n",
       "  </thead>\n",
       "  <tbody>\n",
       "    <tr>\n",
       "      <th>count</th>\n",
       "      <td>2970.000000</td>\n",
       "      <td>3114.000000</td>\n",
       "      <td>3114.000000</td>\n",
       "      <td>3114.000000</td>\n",
       "      <td>3114.000000</td>\n",
       "    </tr>\n",
       "    <tr>\n",
       "      <th>mean</th>\n",
       "      <td>4.243098</td>\n",
       "      <td>26436.625562</td>\n",
       "      <td>28333.473025</td>\n",
       "      <td>1896.847463</td>\n",
       "      <td>6.086788</td>\n",
       "    </tr>\n",
       "    <tr>\n",
       "      <th>std</th>\n",
       "      <td>0.271991</td>\n",
       "      <td>30066.892622</td>\n",
       "      <td>31525.599889</td>\n",
       "      <td>5337.126176</td>\n",
       "      <td>11.106776</td>\n",
       "    </tr>\n",
       "    <tr>\n",
       "      <th>min</th>\n",
       "      <td>2.300000</td>\n",
       "      <td>1000.000000</td>\n",
       "      <td>1000.000000</td>\n",
       "      <td>-8000.000000</td>\n",
       "      <td>-160.320641</td>\n",
       "    </tr>\n",
       "    <tr>\n",
       "      <th>25%</th>\n",
       "      <td>4.100000</td>\n",
       "      <td>9990.000000</td>\n",
       "      <td>10030.250000</td>\n",
       "      <td>0.000000</td>\n",
       "      <td>0.000000</td>\n",
       "    </tr>\n",
       "    <tr>\n",
       "      <th>50%</th>\n",
       "      <td>4.300000</td>\n",
       "      <td>15000.000000</td>\n",
       "      <td>16889.500000</td>\n",
       "      <td>0.000000</td>\n",
       "      <td>0.000000</td>\n",
       "    </tr>\n",
       "    <tr>\n",
       "      <th>75%</th>\n",
       "      <td>4.400000</td>\n",
       "      <td>28999.000000</td>\n",
       "      <td>31500.000000</td>\n",
       "      <td>2000.000000</td>\n",
       "      <td>9.836388</td>\n",
       "    </tr>\n",
       "    <tr>\n",
       "      <th>max</th>\n",
       "      <td>5.000000</td>\n",
       "      <td>179900.000000</td>\n",
       "      <td>189999.000000</td>\n",
       "      <td>75000.000000</td>\n",
       "      <td>70.610305</td>\n",
       "    </tr>\n",
       "  </tbody>\n",
       "</table>\n",
       "</div>"
      ],
      "text/plain": [
       "            Rating  Selling Price  Original Price      Discount  \\\n",
       "count  2970.000000    3114.000000     3114.000000   3114.000000   \n",
       "mean      4.243098   26436.625562    28333.473025   1896.847463   \n",
       "std       0.271991   30066.892622    31525.599889   5337.126176   \n",
       "min       2.300000    1000.000000     1000.000000  -8000.000000   \n",
       "25%       4.100000    9990.000000    10030.250000      0.000000   \n",
       "50%       4.300000   15000.000000    16889.500000      0.000000   \n",
       "75%       4.400000   28999.000000    31500.000000   2000.000000   \n",
       "max       5.000000  179900.000000   189999.000000  75000.000000   \n",
       "\n",
       "       discount percentage  \n",
       "count          3114.000000  \n",
       "mean              6.086788  \n",
       "std              11.106776  \n",
       "min            -160.320641  \n",
       "25%               0.000000  \n",
       "50%               0.000000  \n",
       "75%               9.836388  \n",
       "max              70.610305  "
      ]
     },
     "execution_count": 3,
     "metadata": {},
     "output_type": "execute_result"
    }
   ],
   "source": [
    "df.describe()"
   ]
  },
  {
   "cell_type": "code",
   "execution_count": 4,
   "id": "1905730f-c913-4782-8765-07b30799c04a",
   "metadata": {
    "tags": []
   },
   "outputs": [
    {
     "name": "stdout",
     "output_type": "stream",
     "text": [
      "<class 'pandas.core.frame.DataFrame'>\n",
      "RangeIndex: 3114 entries, 0 to 3113\n",
      "Data columns (total 12 columns):\n",
      " #   Column               Non-Null Count  Dtype  \n",
      "---  ------               --------------  -----  \n",
      " 0   Brands               3114 non-null   object \n",
      " 1   Models               3114 non-null   object \n",
      " 2   Colors               3114 non-null   object \n",
      " 3   Memory               3071 non-null   object \n",
      " 4   Storage              3075 non-null   object \n",
      " 5   Camera               3114 non-null   object \n",
      " 6   Rating               2970 non-null   float64\n",
      " 7   Selling Price        3114 non-null   int64  \n",
      " 8   Original Price       3114 non-null   int64  \n",
      " 9   Mobile               3114 non-null   object \n",
      " 10  Discount             3114 non-null   int64  \n",
      " 11  discount percentage  3114 non-null   float64\n",
      "dtypes: float64(2), int64(3), object(7)\n",
      "memory usage: 292.1+ KB\n"
     ]
    }
   ],
   "source": [
    "df.info()"
   ]
  },
  {
   "cell_type": "code",
   "execution_count": 5,
   "id": "a220dd34-e7ea-497f-9810-678e1d334e2b",
   "metadata": {
    "tags": []
   },
   "outputs": [
    {
     "data": {
      "text/plain": [
       "108"
      ]
     },
     "execution_count": 5,
     "metadata": {},
     "output_type": "execute_result"
    }
   ],
   "source": [
    "df.duplicated().sum()"
   ]
  },
  {
   "cell_type": "code",
   "execution_count": 6,
   "id": "93031c22-87bd-41cc-ba37-2d04b9e34d53",
   "metadata": {
    "tags": []
   },
   "outputs": [],
   "source": [
    "df = df.drop_duplicates()"
   ]
  },
  {
   "cell_type": "markdown",
   "id": "7a05552d-a42e-41f9-87d5-d5c72068836a",
   "metadata": {},
   "source": [
    "#### Drop null values"
   ]
  },
  {
   "cell_type": "code",
   "execution_count": 7,
   "id": "1b9d0cf3-d0c8-4d8e-bb32-78e1ade1d7c4",
   "metadata": {
    "tags": []
   },
   "outputs": [
    {
     "name": "stderr",
     "output_type": "stream",
     "text": [
      "C:\\Users\\emmab\\AppData\\Local\\Temp\\ipykernel_31000\\1379821321.py:1: SettingWithCopyWarning: \n",
      "A value is trying to be set on a copy of a slice from a DataFrame\n",
      "\n",
      "See the caveats in the documentation: https://pandas.pydata.org/pandas-docs/stable/user_guide/indexing.html#returning-a-view-versus-a-copy\n",
      "  df.dropna(inplace=True)\n"
     ]
    }
   ],
   "source": [
    "df.dropna(inplace=True)"
   ]
  },
  {
   "cell_type": "markdown",
   "id": "1ebd17a0-3d1d-46bd-a3bf-96f4a8e622b6",
   "metadata": {},
   "source": [
    "#### Add a column where the color names are condensed into a base color"
   ]
  },
  {
   "cell_type": "code",
   "execution_count": 8,
   "id": "72851d8b-ba12-41a1-ae70-f1f19c1a0bce",
   "metadata": {
    "tags": []
   },
   "outputs": [
    {
     "data": {
      "text/plain": [
       "array(['Mirage Black', 'Steel', 'Ice Blue', 'Black', 'Coral', 'Brown',\n",
       "       'Aquamarine Blue', 'Red', 'Nebula', 'Moonlight Black',\n",
       "       'Sunshine Gold', 'Gold', 'Sprite', 'Blue', 'Grey', 'White',\n",
       "       'Arctic White', 'Polaris Blue', 'Prism Crush Black',\n",
       "       'Midnight Black', 'Bordeaux Red ', 'Green', 'That Green',\n",
       "       'Fine Gold', 'Just Black', 'Violet', 'CHAMPAGNE GOLD', 'Neo Blue',\n",
       "       'Purple', 'Prism Black', 'Jet Black', 'Silver', 'Yellow',\n",
       "       'Starry Night', 'Ocean Blue', 'Fusion Blue', 'Gold Platinum',\n",
       "       'Titan', 'Victory Blue', 'Celestial Silver', 'Lightning Red',\n",
       "       'Pebble Grey', 'Gold Sepia', 'COSMIC BLACK', 'Prism White',\n",
       "       'Glacier Green', 'Space Black', 'Champagne', 'Stealth Black',\n",
       "       'Sky Blue', 'Forest Green', 'Black Sapphire', 'Blazing Blue',\n",
       "       'Chroma White', 'Lake Green', 'Rust Red', 'Crystal Silver',\n",
       "       'Lunar White', 'Black Titan', 'Midnight Jazz', 'Platinum',\n",
       "       'Glaring Gold', 'Mystery Blue', 'Supersonic Black',\n",
       "       'Glowing Green', 'Bolivia Blue', 'Diamond Black', 'Cool Blue',\n",
       "       'Quantum Silver', 'Pearl White', 'Moroccan Blue', 'Bright Green',\n",
       "       'Jewelry White', 'Luminous Black', 'Burgundy Red', 'Diamond Blue',\n",
       "       'Racing Yellow', 'Obsidian Black', 'Angel Gold', 'White Pearl',\n",
       "       'Garlic', 'Rose Gold', 'Classic Silver', 'Neon Spark', 'Coral Red',\n",
       "       'Prism Blue', 'Smokey Gray', 'Awesome White', 'Crystal Black',\n",
       "       'Green and Greener', 'Shark Grey', 'Stream White', 'Arctic blue',\n",
       "       'Aqua Blue', 'Cloud Lavender', 'Glacier White', 'Vinyl Black',\n",
       "       'Aurora Green', 'Space Grey', 'Lightening Black', 'Sonic Black',\n",
       "       'Thunder blue', 'Pearl Blue', 'Lunar Gray', 'Elegant Blue',\n",
       "       'Dusk Blue', 'Awesome Black', 'Glacier Blue', 'Oxygen Green',\n",
       "       'Purist Blue', 'Fairy White', 'Sapphire Blue', 'Cyber Black',\n",
       "       'Frost Blue', 'Dark Blue', 'Camo Green', 'Astral Blue',\n",
       "       'Infinite Black', 'Ice', 'Electric Blue', 'Arctic Blue',\n",
       "       'Polished Copper', 'Diamond Red', 'Fervor Red', 'Ocean Wave',\n",
       "       'Crystal Green', 'Dazzling Gold', 'Marble Green', 'Laser Blue',\n",
       "       'Olive Black', 'Venom Black', 'Neptune Blue', 'Aurora',\n",
       "       'Glory Silver', 'Polar Night', 'Watery Grey', 'Midnight Blue',\n",
       "       'Starry Blue', 'Deep Sea Blue', 'Tempered Blue', 'Aurora Blue',\n",
       "       'Celestial Snow', 'Cool Grey', 'Fantasy White',\n",
       "       'Prism Crush White', 'Solar Red', 'Aegean Blue', 'Dark Pearl',\n",
       "       'Brick Red', 'Cosmic Black', 'Prism Dot Black', 'Santorini White',\n",
       "       'Frosted Champagne', 'Cyber Teal', 'Starry Black', 'Piano Black',\n",
       "       'Prism Crush Violet', 'Lake Blue', 'Pacific Blue', 'Cosmic Purple',\n",
       "       'Tuscany Coral', 'Phantom Black', 'Blush Gold', 'Matte Black',\n",
       "       'Racing Silver', 'Jade Black', 'Royal Blue', 'Awesome Violet',\n",
       "       'Fluorite Purple', 'Blade Silver', 'Graphite', 'Morandi Green',\n",
       "       'Charcoal Black', 'Azure Glow', 'Cloud Pink', 'Moonlight Gold',\n",
       "       'Watery Blue', 'Pure White', 'Titanium', 'Steel Blue',\n",
       "       'Racing Blue', 'Stellar Black', 'Phantom White', 'Sea Blue',\n",
       "       'White Frost', 'Magic Gold', 'Silver Titanium', 'Ceramic White',\n",
       "       'Carbon Black', 'Mocha Brown', 'Diamond Dazzle', 'Phantom Gray',\n",
       "       'White Knight', 'Agate Red', 'Ocean Green', 'Topaz Gold',\n",
       "       'City Blue', 'Lime Green', 'Black Onyx', 'Power Silver',\n",
       "       'Nordic Blue', 'Sunset Red', 'Moonlight Jade',\n",
       "       'Two shades of black', 'Glowing Galaxy', 'Pacific Pearl',\n",
       "       'Charcoal', 'Cloud Mint', 'Aurora Gray', 'Starry Glow',\n",
       "       'Pastel Sky', 'Celestial Magic', 'Super Polar White',\n",
       "       'Auroral Blue', 'Space Silver', 'SeaBlue', 'Lightning Blue',\n",
       "       'Mithril Grey', 'Matrix Purple', 'Thunder Black', 'Misty Blue',\n",
       "       'Twilight Black', 'Metallic Blue', 'Slate Gray', 'Denim Black',\n",
       "       'Twilight Blue', 'Ultra Violet', 'Cosmic Blue', 'Purple  ',\n",
       "       'Dynamic Orange', 'Galactic Blue', 'Awesome Blue', 'Aura Glow',\n",
       "       'Supersonic Blue', 'Sky White', 'Lemonade Blue', 'Atlantic Blue',\n",
       "       'Amazing Silver', 'Silver Wave', 'Cosmic Gray', 'Not Pink',\n",
       "       'Cross Black', 'Cross Blue', 'Sand', 'Green Wave',\n",
       "       'Graphite Black', 'Quetzal Cyan', 'Glaze Blue', 'Nebula Purple',\n",
       "       'Champagne Gold', 'Indigo Black', 'Metallic Gray',\n",
       "       'Bronze Gradient', 'Dark Grey', 'CYAN', 'Oxygen Blue',\n",
       "       'Platinum Grey', 'Symphony Cyan', 'IceBerg Blue', 'Mirror Black',\n",
       "       'Jazz Blue', 'Midnight Grey', 'Sapphire Cyan', 'Emerald Green',\n",
       "       'Dynamic Black', 'Dazzling White', 'White Birch', 'Sea Green',\n",
       "       'Quartz Black', 'Amber Gold', 'Stainless Black', 'Deep Black',\n",
       "       'Cyan Green', 'Tradew Grey', 'Super Black', 'Pink', 'Out of Blue',\n",
       "       'Coral Blue', 'Grey ', 'Copper Gold', 'Crystal Blue', 'Dusk',\n",
       "       'Emerald Black', 'Moonlight Silver', 'Polished Blue',\n",
       "       'Phantom Silver', 'Serene Gold', 'Metal Grey', 'Universe Purple',\n",
       "       'Alpine Green', 'Mystery Black', 'Marble White',\n",
       "       'Prism Crush Blue', 'Quartz Green', 'Power Black', 'Sierra Blue',\n",
       "       'Genuine Leather Brown', 'Tahiti Blue', 'Fjord', 'Maple Gold',\n",
       "       'Prism Magic', 'Twilight Orange', 'Cyber Silver',\n",
       "       'Gold and Silver', 'Polar Gold', 'Matte Gold', 'Silver Blue',\n",
       "       'Eclipse Black', 'Polished Graphite', 'Tornado Black', 'Icy Blue',\n",
       "       'Mystic Black', 'Mint Green', 'Mystic Bronze', 'Rosso Red',\n",
       "       'Sunset Melody', 'Brilliant Black', 'Starry purple',\n",
       "       'AURORA SILVER', 'Iron', 'Waterfall Grey', 'Stellar Purple',\n",
       "       'Black and Gold', 'Rich Grey', 'Gradation Black', 'Radiant Blue',\n",
       "       'Nordic Secret', 'Denim Blue', 'Energetic Blue', 'Ceramic Black',\n",
       "       'Pearl Green', 'White  ', 'White & Copper', 'Sparkling Blue',\n",
       "       'Glowing Black', 'Coral Green', 'Sprinkle White', 'Clearly White',\n",
       "       'Chic White', 'Dashing Blue', 'Lunar Grey', 'Milan Black',\n",
       "       'Sandstone Black', 'Nebula Red', 'Classic White', 'Power Blue',\n",
       "       'So Blue', 'Blue & Silver', 'Space Blue', 'Matte Aqua',\n",
       "       'Aurora Silver', 'Warm Red', 'Blazing Black', 'Midday Dream',\n",
       "       'Rich Cranberry', 'Milkyway Grey', 'Onyx Black', 'Mint',\n",
       "       'Diamond Flare', 'Pheonix Red', 'Thunder Blue',\n",
       "       'Illuminating Yellow', 'Sunset Dazzle', 'Skyline Blue',\n",
       "       'Cloud Blue', 'Comet White', 'Gradation Blue', 'Rainbow Blue',\n",
       "       'Prism Crush Red', 'Dark Gray', 'Charcoal Grey', 'Fusion Black',\n",
       "       'Midnight Green', 'Frosted Gold', 'Pink Sand', 'Nature Green',\n",
       "       'Blue Lagoon', 'Twilight Purple', 'Marine Green', 'Charcoal Blue',\n",
       "       'Cloud Red', 'Aura Black', 'GREY/BLACK', 'Wine Red', 'Dusk Purple',\n",
       "       'Silver Diamond', 'Pitch Black', 'Starry Night Black',\n",
       "       'black sapphire', 'Very Silver', 'Pewter / White', 'midnight blue',\n",
       "       'Alpine White', 'Fantastic Purple', 'Lilac Purple', 'Crystal Pink',\n",
       "       'Electric Graphite', 'Polar Black', 'Lavender Violet', 'Concrete',\n",
       "       'Prism Dot Gray', 'Laser Black', 'Aurora Dawn', 'Black Leather',\n",
       "       'Fusion Green', 'Dark Night', 'Prism Crush Silver',\n",
       "       'Smoky Sangria', 'Haze Crush Silver', 'Midnight Purple',\n",
       "       'Ink Black', 'LUNAR WHITE', 'Black/Tuxedo Black',\n",
       "       'Celestial Black', 'Neon Purple', 'Magic Blue', 'Meteor Silver',\n",
       "       'Starlight Black', 'Volcano Grey', 'Polar White', 'Dark Nebula',\n",
       "       'Cloud White', 'Rainbow Silver', 'Metallic Sage', 'Frost White',\n",
       "       'Purple Mist', 'Stardust White', 'Ruby Red', 'Space Purple',\n",
       "       'Diamond Ruby', 'CHARCOAL', 'Frosted Pearl', 'Metallic Copper',\n",
       "       'Phantom Purple', 'Slate Black', 'Rose Pink', 'Unicorn White',\n",
       "       'Diamond Glow', 'Berlin Gray', 'Dynamic Gray', 'Black Gold',\n",
       "       'Meteor Grey', 'Breeze Blue', 'Laser Green', 'Iris Charcoal',\n",
       "       'Frozen Blue', 'Stardust Black', 'MAGIC BLUE', 'Phantom Green',\n",
       "       'Sword Black', 'Genuine Leather Black', 'Diamond White',\n",
       "       'Light Blue', 'Lightning Orange', 'Cosmos Black', 'Neo Black',\n",
       "       'Navy Blue', 'Fancy White', 'Mocha Gold', 'Bronze Gold Black',\n",
       "       'Voyager Grey', 'Daybreak Blue', 'Cloud Navy', 'Sunrise Flare',\n",
       "       'Iceberg blue', 'Shimmer Blue', 'Iceberg Blue', 'Startrails Blue',\n",
       "       'Black & Blue', 'Dawn White', 'Sunrise Blue ', 'Space Gray',\n",
       "       'Stargaze White', 'Shadow Grey', 'Raven Black', 'Predator Black',\n",
       "       'Gold Sand', 'Mercury Silver', 'Phantom Violet', 'Mist White',\n",
       "       'Gold & Black', 'That Blue', 'Mirage Blue', 'Luna White ',\n",
       "       'Heart of Ocean', 'Copper', 'Lavender  ', 'Pearl white',\n",
       "       'Comet Blue', 'Topaz Blue', 'Black Sky', 'Ambitious Black',\n",
       "       'Armoured Edition', 'Cream', 'Carbon Grey', 'Meteor Black',\n",
       "       'Sonic Blue', 'Laser Grey', 'Crystal Symphony', 'Sporty Orange',\n",
       "       'That White', 'Pink Gold', 'Grey / Silver', 'Absolute black',\n",
       "       'Metallic White', 'Infinite Blue', 'Gravity Black', 'Mist Blue',\n",
       "       'Fiery Gold', 'Asteroid Black', 'Baltic', 'Charcoal Gray',\n",
       "       'Bright Red', 'Mint Cream', 'Deep Blue', 'Silver White',\n",
       "       'Lavender Purple', 'Bordeaux Red', 'Mostly Blue', 'Pebble Blue',\n",
       "       'Onion', 'Aura Red', 'Blazing Red', 'Bronze Gold', 'SAND',\n",
       "       'Copper/Black', 'Nebula Blue', 'Moonlight White',\n",
       "       'MOONLIGHT WHITE', 'Vanilla Mint', 'Black Pearl', 'Carbon',\n",
       "       'Sunset Blue', 'Bold Red', 'Blossom Pink', 'Pacific Sunrise',\n",
       "       'Awesome Mint', 'Gunmetal Silver', 'Moss Green', 'Black Diamond',\n",
       "       'Electric Green', 'Sterling Blue', 'Black Ninja', 'Starry Purple',\n",
       "       'Mystic Blue', 'Electric Black', 'Majestic Gold', 'Prime Black',\n",
       "       'Aura White', 'Oxford Blue', 'Fancy Blue', 'Pearl Black',\n",
       "       'Mystic Green', 'Shimmery White', 'Silver Titan', 'Fluid Black',\n",
       "       'Mist Black', 'Aquamarine Green', 'Titan Silver', 'Slate Blue',\n",
       "       'Fantastic Rainbow', 'dark gold', 'Caribbean Blue', 'Blue MB',\n",
       "       'Titan Gray', 'Twilight Grey', 'Brave Blue', 'Metallic Silver',\n",
       "       'Lunar Silver', 'Kind of Grey', 'Sun Kissed Leather',\n",
       "       'Flowing Silver', 'Fjord Blue', 'Sunrise Red', 'Sunrise Gold',\n",
       "       'Royal Gold', 'Saffron Grey', 'Silky White', 'Caviar Black',\n",
       "       'Noble Black', 'Red Brick', 'Diamond Sapphire', 'Aether Black',\n",
       "       'JET BLACK', 'Volcanic Grey', 'CELESTIAL SILVER',\n",
       "       'Titanium Sapphire', 'Latte Gold', 'Illusion Sky', 'Rich Green',\n",
       "       'Metallic Grey', 'Enigma Black', 'Black&Blue', 'Copper White',\n",
       "       'Black & Copper', 'Universe Blue', 'Frosted Emerald',\n",
       "       'More Than White', 'Orchid Grey', 'Sunset Jazz', 'So White',\n",
       "       'Haze Green', 'Amber Red', 'Mighty Black', ' Tornado Black',\n",
       "       'Orange', 'Blue Coral', 'Electric Violet', 'Black Blue',\n",
       "       'Seawater Blue', 'Glossy Black', 'Gunmetal Grey', 'Flame Red',\n",
       "       'Alpha Grey', 'Ghost White', 'Fancy white', 'COCKTAIL ORANGE',\n",
       "       'Frosted Silver', 'Astro Moonlight White', 'Fiery Red',\n",
       "       'Aurora Grey', 'Sapphire Gradient'], dtype=object)"
      ]
     },
     "execution_count": 8,
     "metadata": {},
     "output_type": "execute_result"
    }
   ],
   "source": [
    "df['Colors'].unique()"
   ]
  },
  {
   "cell_type": "code",
   "execution_count": 9,
   "id": "7d35318d-0059-4d6a-8e27-fc8100137157",
   "metadata": {
    "tags": []
   },
   "outputs": [
    {
     "name": "stderr",
     "output_type": "stream",
     "text": [
      "C:\\Users\\emmab\\AppData\\Local\\Temp\\ipykernel_31000\\808834532.py:25: SettingWithCopyWarning: \n",
      "A value is trying to be set on a copy of a slice from a DataFrame.\n",
      "Try using .loc[row_indexer,col_indexer] = value instead\n",
      "\n",
      "See the caveats in the documentation: https://pandas.pydata.org/pandas-docs/stable/user_guide/indexing.html#returning-a-view-versus-a-copy\n",
      "  df['base_color'] = df['Colors'].apply(simplify_color)\n"
     ]
    }
   ],
   "source": [
    "color_map = {\n",
    "    'black': ['black', 'onyx', 'charcoal', 'graphite', 'jet', 'raven', 'obsidian', 'carbon', 'ebony'],\n",
    "    'white': ['white', 'ivory', 'pearl', 'snow', 'frost'],\n",
    "    'red': ['red', 'crimson', 'ruby', 'burgundy', 'scarlet'],\n",
    "    'blue': ['blue', 'navy', 'aqua', 'indigo', 'cyan', 'azure', 'ocean', 'sky'],\n",
    "    'green': ['green', 'mint', 'emerald', 'olive'],\n",
    "    'gold': ['gold', 'champagne', 'amber', 'sand', 'bronze'],\n",
    "    'silver': ['silver', 'platinum', 'titanium', 'steel', 'metal', 'chrome'],\n",
    "    'purple': ['purple', 'violet', 'lavender', 'lilac'],\n",
    "    'pink': ['pink', 'rose', 'blush', 'coral'],\n",
    "    'grey': ['grey', 'gray', 'slate'],\n",
    "    'orange': ['orange', 'copper'],\n",
    "    'brown': ['brown', 'mocha', 'coffee'],\n",
    "    'yellow': ['yellow'],\n",
    "    'other': []\n",
    "}\n",
    "\n",
    "def simplify_color(color):\n",
    "    color = str(color).lower()\n",
    "    for base, keywords in color_map.items():\n",
    "        if any(keyword in color for keyword in keywords):\n",
    "            return base\n",
    "    return 'other'\n",
    "\n",
    "df['base_color'] = df['Colors'].apply(simplify_color)"
   ]
  },
  {
   "cell_type": "markdown",
   "id": "42635f65-3178-4f2e-abb1-8830efaf7b94",
   "metadata": {},
   "source": [
    "#### Standardize storage column and create new column with only the numeric value in GB"
   ]
  },
  {
   "cell_type": "code",
   "execution_count": 10,
   "id": "b040eef2-7ae6-43cb-8dc0-a8da811eba48",
   "metadata": {
    "tags": []
   },
   "outputs": [
    {
     "data": {
      "text/plain": [
       "array(['128 GB', '16 GB', '64 GB', '16 MB', '256 GB', '32 GB', '8 GB',\n",
       "       '512 GB', '2 MB', '4 GB', 'Expandable Upto 16 GB', '64 MB',\n",
       "       'Expandable Upto 32 GB', '4 MB', '128 MB', '1 TB', '512 MB',\n",
       "       '129 GB', '256 MB', '153 MB', '130 GB', '8 MB', '10 MB', '100 MB',\n",
       "       '140 MB'], dtype=object)"
      ]
     },
     "execution_count": 10,
     "metadata": {},
     "output_type": "execute_result"
    }
   ],
   "source": [
    "df['Storage'].unique()"
   ]
  },
  {
   "cell_type": "code",
   "execution_count": 11,
   "id": "4aff821f-d0ea-4a76-9e66-f5baa71e74a5",
   "metadata": {
    "tags": []
   },
   "outputs": [
    {
     "name": "stderr",
     "output_type": "stream",
     "text": [
      "C:\\Users\\emmab\\AppData\\Local\\Temp\\ipykernel_31000\\364600318.py:1: SettingWithCopyWarning: \n",
      "A value is trying to be set on a copy of a slice from a DataFrame.\n",
      "Try using .loc[row_indexer,col_indexer] = value instead\n",
      "\n",
      "See the caveats in the documentation: https://pandas.pydata.org/pandas-docs/stable/user_guide/indexing.html#returning-a-view-versus-a-copy\n",
      "  df['Storage'] = df['Storage'].str.replace('Expandable Upto 32 GB', '32 GB')\n",
      "C:\\Users\\emmab\\AppData\\Local\\Temp\\ipykernel_31000\\364600318.py:2: SettingWithCopyWarning: \n",
      "A value is trying to be set on a copy of a slice from a DataFrame.\n",
      "Try using .loc[row_indexer,col_indexer] = value instead\n",
      "\n",
      "See the caveats in the documentation: https://pandas.pydata.org/pandas-docs/stable/user_guide/indexing.html#returning-a-view-versus-a-copy\n",
      "  df['Storage'] = df['Storage'].str.replace('Expandable Upto 16 GB', '16 GB')\n"
     ]
    }
   ],
   "source": [
    "df['Storage'] = df['Storage'].str.replace('Expandable Upto 32 GB', '32 GB')\n",
    "df['Storage'] = df['Storage'].str.replace('Expandable Upto 16 GB', '16 GB')"
   ]
  },
  {
   "cell_type": "code",
   "execution_count": 12,
   "id": "eba6c963-ff60-4813-83d3-07bb352c1909",
   "metadata": {
    "tags": []
   },
   "outputs": [
    {
     "name": "stderr",
     "output_type": "stream",
     "text": [
      "C:\\Users\\emmab\\AppData\\Local\\Temp\\ipykernel_31000\\878476594.py:12: SettingWithCopyWarning: \n",
      "A value is trying to be set on a copy of a slice from a DataFrame.\n",
      "Try using .loc[row_indexer,col_indexer] = value instead\n",
      "\n",
      "See the caveats in the documentation: https://pandas.pydata.org/pandas-docs/stable/user_guide/indexing.html#returning-a-view-versus-a-copy\n",
      "  df['storage_gb'] = df['Storage'].apply(convert_storage)\n"
     ]
    }
   ],
   "source": [
    "def convert_storage(value):\n",
    "    value = str(value).strip().upper()\n",
    "    if 'MB' in value:\n",
    "        num = float(value.replace('MB', '').strip())\n",
    "        return round(num / 1024, 2)\n",
    "    elif 'GB' in value:\n",
    "        num = float(value.replace('GB', '').strip())\n",
    "        return num\n",
    "    else:\n",
    "        return None\n",
    "\n",
    "df['storage_gb'] = df['Storage'].apply(convert_storage)"
   ]
  },
  {
   "cell_type": "markdown",
   "id": "a2580e03-aef0-4a2a-b0e0-f4aca0f66dbb",
   "metadata": {},
   "source": [
    "#### Drop unuseful columns"
   ]
  },
  {
   "cell_type": "code",
   "execution_count": 13,
   "id": "c4fa3f8e-2347-4fbb-93fd-1b8859768e68",
   "metadata": {
    "tags": []
   },
   "outputs": [],
   "source": [
    "df = df.drop(columns='Camera')"
   ]
  },
  {
   "cell_type": "markdown",
   "id": "3fc20629-4f78-4c3f-b872-c29862665064",
   "metadata": {},
   "source": [
    "#### Add columns for price in USD"
   ]
  },
  {
   "cell_type": "code",
   "execution_count": 14,
   "id": "08d81641-0080-4960-89fc-c5035e1a46d6",
   "metadata": {
    "tags": []
   },
   "outputs": [],
   "source": [
    "df['selling_price_usd'] = df['Selling Price'] * 0.012\n",
    "\n",
    "df['original_price_usd'] = df['Original Price'] * 0.012"
   ]
  },
  {
   "cell_type": "markdown",
   "id": "917cff0f-5190-418f-8f52-7c90ba6c73cc",
   "metadata": {},
   "source": [
    "#### Rename columns for consistency"
   ]
  },
  {
   "cell_type": "code",
   "execution_count": 19,
   "id": "420c337b-aeba-4ffb-9123-8cdfdf773dcf",
   "metadata": {
    "tags": []
   },
   "outputs": [],
   "source": [
    "new_columns = {\n",
    "    'Brands': 'brands',\n",
    "    'Models': 'models',\n",
    "    'Colors': 'colors',\n",
    "    'Memory': 'memory',\n",
    "    'Storage': 'storage',\n",
    "    'Rating': 'rating',\n",
    "    'Selling Price': 'selling_price_INR',\n",
    "    'Original Price': 'original_price_INR',\n",
    "    'Mobile': 'mobile',\n",
    "    'Discount': 'discount',\n",
    "    'discount percentage': 'discount_percentage'\n",
    "}\n",
    "\n",
    "df.rename(columns=new_columns, inplace=True)"
   ]
  },
  {
   "cell_type": "markdown",
   "id": "b23f2100-827f-41dc-8007-8ae67821d6d0",
   "metadata": {},
   "source": [
    "#### Save cleaned data to new file"
   ]
  },
  {
   "cell_type": "code",
   "execution_count": 20,
   "id": "521b82c6-cf96-4a30-9d78-334dafee4b2b",
   "metadata": {
    "tags": []
   },
   "outputs": [],
   "source": [
    "df.to_csv(r\"C:\\Users\\emmab\\Phone Sales\\sales_cleaned.csv\", index=False)"
   ]
  }
 ],
 "metadata": {
  "kernelspec": {
   "display_name": "Python 3 (ipykernel)",
   "language": "python",
   "name": "python3"
  },
  "language_info": {
   "codemirror_mode": {
    "name": "ipython",
    "version": 3
   },
   "file_extension": ".py",
   "mimetype": "text/x-python",
   "name": "python",
   "nbconvert_exporter": "python",
   "pygments_lexer": "ipython3",
   "version": "3.11.4"
  }
 },
 "nbformat": 4,
 "nbformat_minor": 5
}
